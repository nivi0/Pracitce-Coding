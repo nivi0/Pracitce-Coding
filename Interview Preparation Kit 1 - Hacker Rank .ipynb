{
 "cells": [
  {
   "cell_type": "code",
   "execution_count": 2,
   "metadata": {},
   "outputs": [
    {
     "data": {
      "text/plain": [
       "2"
      ]
     },
     "execution_count": 2,
     "metadata": {},
     "output_type": "execute_result"
    }
   ],
   "source": [
    "5//2"
   ]
  },
  {
   "cell_type": "markdown",
   "metadata": {},
   "source": [
    "1) Sales by Match : https://www.hackerrank.com/challenges/sock-merchant/problem?h_l=interview&playlist_slugs%5B%5D=interview-preparation-kit&playlist_slugs%5B%5D=warmup"
   ]
  },
  {
   "cell_type": "code",
   "execution_count": null,
   "metadata": {},
   "outputs": [],
   "source": [
    "#my logic : well this works!\n",
    "def sockMerchant1(n, ar):\n",
    "    d = {}\n",
    "    for i in range(len(ar)):\n",
    "        if ar[i] not in d:\n",
    "            d[ar[i]] = 1\n",
    "        else:\n",
    "            d[ar[i]] += 1\n",
    "            \n",
    "    print(d)\n",
    "    count = 0\n",
    "    for j in d:\n",
    "        if d[j] > 1: #this condition not needed since 1//2 = 0. So it won't be counted.\n",
    "            count += d[j]//2\n",
    "            \n",
    "    print(count)\n"
   ]
  },
  {
   "cell_type": "code",
   "execution_count": null,
   "metadata": {},
   "outputs": [],
   "source": [
    "#youtube method\n",
    "from collections import Counter\n",
    "def sockMerchant2(n, ar):\n",
    "    c = 0\n",
    "    for val in Counter(ar).values():\n",
    "        c += val//2\n",
    "    \n",
    "    print(c)"
   ]
  },
  {
   "cell_type": "code",
   "execution_count": null,
   "metadata": {},
   "outputs": [],
   "source": [
    "n = 9\n",
    "ar = [10, 20, 20, 10, 10, 30, 50, 10, 20]\n",
    "sockMerchant1(n, ar)"
   ]
  },
  {
   "cell_type": "code",
   "execution_count": null,
   "metadata": {},
   "outputs": [],
   "source": [
    "sockMerchant2(n, ar)"
   ]
  },
  {
   "cell_type": "markdown",
   "metadata": {},
   "source": [
    "2) Counting Valleys : https://www.hackerrank.com/challenges/counting-valleys/problem?h_l=interview&playlist_slugs%5B%5D=interview-preparation-kit&playlist_slugs%5B%5D=warmup"
   ]
  },
  {
   "cell_type": "code",
   "execution_count": null,
   "metadata": {},
   "outputs": [],
   "source": [
    "def countingValleys(steps, path):\n",
    "    # Write your code here\n",
    "    valey = level = 0\n",
    "    d = {\"U\":1 , \"D\":-1}\n",
    "    \n",
    "    for step in path:\n",
    "        level += d[step]\n",
    "        if level == 0 and step==\"U\": #when we come out of a valey. the step must be \"U\" \n",
    "            valey += 1               #level must be equal to 0\n",
    "            \n",
    "    return valey"
   ]
  },
  {
   "cell_type": "code",
   "execution_count": null,
   "metadata": {},
   "outputs": [],
   "source": [
    "path = \"UDDDUDUU\"\n",
    "print(countingValleys(8, path))"
   ]
  },
  {
   "cell_type": "code",
   "execution_count": null,
   "metadata": {},
   "outputs": [],
   "source": [
    "def repeatedString(s, n):\n",
    "    # Write your code here   //Super Nivi Kanna !!\n",
    "    count = 0\n",
    "    l = len(s)\n",
    "    for i in s:\n",
    "        if i == 'a':\n",
    "            count += 1\n",
    "           \n",
    "    count = count*(n//l)\n",
    "    \n",
    "    for i in s[:n%l]:\n",
    "        if i == 'a':\n",
    "            count += 1\n",
    "            \n",
    "    return count"
   ]
  },
  {
   "cell_type": "code",
   "execution_count": null,
   "metadata": {},
   "outputs": [],
   "source": [
    "repeatedString('aba', 10)"
   ]
  },
  {
   "cell_type": "code",
   "execution_count": null,
   "metadata": {},
   "outputs": [],
   "source": [
    "def minimumBribes(q):\n",
    "    # Write your code here\n",
    "    bribes = 0\n",
    "    for i in range(0,len(q)):\n",
    "        print(\"i:\",i,\"q[i]:\",q[i])\n",
    "        if q[i] > i:\n",
    "            count = q[i] - i-1\n",
    "            bribes += count\n",
    "            if count > 2 :\n",
    "                print('Too chaotic')\n",
    "                break\n",
    "    if i== len(q)-1:\n",
    "        print(bribes)"
   ]
  },
  {
   "cell_type": "code",
   "execution_count": null,
   "metadata": {},
   "outputs": [],
   "source": [
    "q1 = [1, 2, 5\n",
    "       3, 7, 8, 6, 4]\n",
    "minimumBribes(q1)"
   ]
  },
  {
   "cell_type": "code",
   "execution_count": null,
   "metadata": {},
   "outputs": [],
   "source": [
    "def checkMagazine(magazine, note):\n",
    "    m = {}\n",
    "    n = {}\n",
    "    \n",
    "    for i in magazine :\n",
    "        if i not in m:\n",
    "            m[i] = 1\n",
    "        m[i] += 1\n",
    "            \n",
    "    for i in note :\n",
    "        if i not in n:\n",
    "            n[i] = 1\n",
    "        n[i] += 1\n",
    "        \n",
    "    flag = \"Yes\"\n",
    "            \n",
    "    for i in n :\n",
    "        if i not in m or n[i] > m[i]:  #if he wants to use a word twice in the note\n",
    "            flag = \"No\"                #but it is present only once in the magazie.\n",
    "            break                      #Then, how could he use? So, in that case \"No\".\n",
    "    \n",
    "    print(flag)"
   ]
  },
  {
   "cell_type": "code",
   "execution_count": null,
   "metadata": {},
   "outputs": [],
   "source": [
    "magazine = ['two', 'times', 'three', 'is', 'not', 'four']\n",
    "note = ['two', 'times', 'two', 'is', 'four']\n",
    "\n",
    "checkMagazine(magazine, note) "
   ]
  },
  {
   "cell_type": "code",
   "execution_count": null,
   "metadata": {},
   "outputs": [],
   "source": [
    "magazine = ['two', 'times', 'three', 'is', 'not', 'four']\n",
    "note = ['two', 'times', 'is', 'four']\n",
    "\n",
    "checkMagazine(magazine, note) "
   ]
  },
  {
   "cell_type": "code",
   "execution_count": 47,
   "metadata": {},
   "outputs": [],
   "source": [
    "def twoStrings(s1, s2):\n",
    "    # Write your code here\n",
    "    print(\"set(s1) : \", set(s1))\n",
    "    print(\"set(s2) : \", set(s2))\n",
    "    if set(s1) & set(s2) :\n",
    "        print(\"set(s1) & set(s2) : \", set(s1) & set(s2))\n",
    "        return \"YES\"\n",
    "    else :\n",
    "        return \"NO\""
   ]
  },
  {
   "cell_type": "code",
   "execution_count": 48,
   "metadata": {},
   "outputs": [
    {
     "name": "stdout",
     "output_type": "stream",
     "text": [
      "set(s1) :  {'i', 'h'}\n",
      "set(s2) :  {'d', 'o', 'l', 'r', 'w'}\n",
      "NO\n"
     ]
    }
   ],
   "source": [
    "s1 = 'hi'\n",
    "s2 = 'world'\n",
    "print(twoStrings(s1, s2))"
   ]
  },
  {
   "cell_type": "code",
   "execution_count": 49,
   "metadata": {},
   "outputs": [
    {
     "name": "stdout",
     "output_type": "stream",
     "text": [
      "set(s1) :  {'e', 'l', 'h', 'o'}\n",
      "set(s2) :  {'d', 'o', 'l', 'r', 'w'}\n",
      "set(s1) & set(s2) :  {'l', 'o'}\n",
      "YES\n"
     ]
    }
   ],
   "source": [
    "s1 = 'hello'\n",
    "s2 = 'world'\n",
    "print(twoStrings(s1, s2))"
   ]
  },
  {
   "cell_type": "markdown",
   "metadata": {},
   "source": [
    "Sherlock and Anagram --> https://www.youtube.com/watch?v=07MNbFSqsUk&t=133s\n",
    "Hacker Rank : https://www.hackerrank.com/challenges/sherlock-and-anagrams/problem?h_l=interview&playlist_slugs%5B%5D=interview-preparation-kit&playlist_slugs%5B%5D=dictionaries-hashmaps"
   ]
  },
  {
   "cell_type": "code",
   "execution_count": 51,
   "metadata": {},
   "outputs": [],
   "source": [
    "def sherlockAndAnagrams(s):\n",
    "    # Write your code here\n",
    "    n = len(s)\n",
    "    noOfPairs = 0\n",
    "    for i in range(1,n):\n",
    "        subsDict = {}\n",
    "        for j in range(n-i+1):\n",
    "            subs = s[j:j+i]\n",
    "            sortedSubsList = sorted(list(subs))\n",
    "            sortedSubsString = ''.join(sortedSubsList)\n",
    "#             print('sortedSubsList : ',sortedSubsList)\n",
    "#             print('sortedSubsString : ',sortedSubsString)\n",
    "            if sortedSubsString not in subsDict :\n",
    "                subsDict[sortedSubsString] = 1\n",
    "            else :\n",
    "                subsDict[sortedSubsString] += 1\n",
    "                \n",
    "            noOfPairs += subsDict[sortedSubsString]-1\n",
    "            \n",
    "    return noOfPairs\n"
   ]
  },
  {
   "cell_type": "code",
   "execution_count": 52,
   "metadata": {},
   "outputs": [
    {
     "name": "stdout",
     "output_type": "stream",
     "text": [
      "2\n"
     ]
    }
   ],
   "source": [
    "s = 'mom'\n",
    "print(sherlockAndAnagrams(s))"
   ]
  },
  {
   "cell_type": "code",
   "execution_count": 56,
   "metadata": {},
   "outputs": [],
   "source": [
    "def countTriplets(arr, r):\n",
    "    \n",
    "    count = 0\n",
    "    bef = {}\n",
    "    aft = {}\n",
    "    \n",
    "    for i in arr :       #inputing every arr element int dictionary\n",
    "        if i in aft :\n",
    "            aft[i] += 1\n",
    "        else : \n",
    "            aft[i] = 1\n",
    "            \n",
    "    \n",
    "    for i in arr :\n",
    "        aft[i] -= 1\n",
    "        if i//r in bef and i%r == 0 and i*r in aft :\n",
    "            count += bef[i//r]*aft[i*r]\n",
    "        if i in bef :\n",
    "            bef[i] += 1\n",
    "        else :\n",
    "            bef[i] = 1\n",
    "            \n",
    "    return count"
   ]
  },
  {
   "cell_type": "code",
   "execution_count": 57,
   "metadata": {},
   "outputs": [
    {
     "name": "stdout",
     "output_type": "stream",
     "text": [
      "6\n"
     ]
    }
   ],
   "source": [
    "arr = [1,3,9,9,27,81]\n",
    "r = 3\n",
    "print(countTriplets(arr, r))"
   ]
  },
  {
   "cell_type": "code",
   "execution_count": 14,
   "metadata": {},
   "outputs": [
    {
     "name": "stdout",
     "output_type": "stream",
     "text": [
      "[3, 4]\n"
     ]
    }
   ],
   "source": [
    "arr1 = [1,2,3,4,5]\n",
    "arr2 = [3,4,6,7,8,]\n",
    "s = set(arr1) & set(arr2)\n",
    "arr = []\n",
    "for i in s:\n",
    "    arr.append(i)\n",
    "    \n",
    "print(arr)"
   ]
  },
  {
   "cell_type": "code",
   "execution_count": 15,
   "metadata": {},
   "outputs": [],
   "source": [
    "def countSwaps(a):\n",
    "    # Write your code here\n",
    "    l = len(a)\n",
    "    noOfSwaps = 0\n",
    "    for i in range(l) :\n",
    "        for j in range(l-1) :\n",
    "            if ( a[j] > a[j+1] ) :\n",
    "                noOfSwaps += 1\n",
    "                a[j+1], a[j] = a[j], a[j+1]\n",
    "                \n",
    "    print(f'Array is sorted in {noOfSwaps} swaps.')\n",
    "    print(f'First Element: {a[0]}')\n",
    "    print(f'Last Element: {a[l-1]}')\n",
    "    # return\n"
   ]
  },
  {
   "cell_type": "code",
   "execution_count": 19,
   "metadata": {},
   "outputs": [
    {
     "name": "stdout",
     "output_type": "stream",
     "text": [
      "Array is sorted in 3 swaps.\n",
      "First Element: 1\n",
      "Last Element: 6\n"
     ]
    }
   ],
   "source": [
    "a = [6,4,1]\n",
    "countSwaps(a)"
   ]
  },
  {
   "cell_type": "code",
   "execution_count": 20,
   "metadata": {},
   "outputs": [],
   "source": [
    "def maximumToys(prices, k):\n",
    "    # Write your code here\n",
    "    prices = sorted(prices)\n",
    "    items = 0\n",
    "    for i in prices :\n",
    "        k -= i\n",
    "        if k<0 :\n",
    "            break\n",
    "        else :\n",
    "            items += 1\n",
    "            \n",
    "    return items"
   ]
  },
  {
   "cell_type": "code",
   "execution_count": 21,
   "metadata": {},
   "outputs": [
    {
     "data": {
      "text/plain": [
       "4"
      ]
     },
     "execution_count": 21,
     "metadata": {},
     "output_type": "execute_result"
    }
   ],
   "source": [
    "prices = [1, 12, 5, 111, 200, 1000, 10]\n",
    "k = 50\n",
    "maximumToys(prices, k)"
   ]
  },
  {
   "cell_type": "code",
   "execution_count": 3,
   "metadata": {},
   "outputs": [],
   "source": [
    "def minimumSwaps(arr):\n",
    "swaps = 0\n",
    "i = 0\n",
    "while i < len(arr):\n",
    "    correct_idx = arr[i]-1\n",
    "    if arr[i] != arr[correct_idx]:\n",
    "        arr[i], arr[correct_idx] = arr[correct_idx], arr[i]\n",
    "        swaps += 1\n",
    "    else:\n",
    "        i += 1\n",
    "\n",
    "return swaps"
   ]
  },
  {
   "cell_type": "code",
   "execution_count": 4,
   "metadata": {},
   "outputs": [
    {
     "data": {
      "text/plain": [
       "5"
      ]
     },
     "execution_count": 4,
     "metadata": {},
     "output_type": "execute_result"
    }
   ],
   "source": [
    "arr = [7, 1, 3, 2, 4, 5, 6]\n",
    "minimumSwaps(arr)"
   ]
  },
  {
   "cell_type": "markdown",
   "metadata": {},
   "source": [
    " https://www.hackerrank.com/challenges/frequency-queries/problem?h_l=interview&playlist_slugs%5B%5D=interview-preparation-kit&playlist_slugs%5B%5D=dictionaries-hashmaps"
   ]
  },
  {
   "cell_type": "code",
   "execution_count": 3,
   "metadata": {},
   "outputs": [],
   "source": [
    "def freqQuery(queries):\n",
    "    \n",
    "    quer = {}\n",
    "    freq = {}\n",
    "    result = []\n",
    "    \n",
    "    for q in queries :\n",
    "        \n",
    "        if q[0] == 1 :\n",
    "            if q[1] not in quer :\n",
    "                quer[q[1]] = 1\n",
    "                if quer[q[1]] not in freq :\n",
    "                    freq[quer[q[1]]] = 1\n",
    "                else :\n",
    "                    freq[quer[q[1]]] += 1\n",
    "            else :\n",
    "                freq[quer[q[1]]] -= 1\n",
    "                quer[q[1]] += 1\n",
    "                freq[quer[q[1]]] += 1\n",
    "                \n",
    "                \n",
    "        if q[0] == 2 :\n",
    "            if q[1] in quer :\n",
    "                freq[quer[q[1]]] -=1\n",
    "                quer[q[1]] -= 1\n",
    "                \n",
    "                \n",
    "        if q[0] == 3 :\n",
    "            if freq[q[1]] > 0 :\n",
    "                result.append(1)\n",
    "            else :\n",
    "                result.append(0)\n",
    "    \n",
    "                \n",
    "    return result"
   ]
  },
  {
   "cell_type": "code",
   "execution_count": 4,
   "metadata": {},
   "outputs": [],
   "source": [
    "from collections import Counter\n",
    "\n",
    "# Complete the freqQuery function below.\n",
    "def freqQuery(queries):\n",
    "    \n",
    "    quer = Counter()\n",
    "    freq = Counter()\n",
    "    result = []\n",
    "    \n",
    "    for q,val in queries :\n",
    "        \n",
    "        if q == 1 :\n",
    "            freq[quer[val]] -= 1\n",
    "            quer[val] += 1\n",
    "            freq[quer[val]] += 1\n",
    "                             \n",
    "        elif q == 2 :\n",
    "            if quer[val] > 0:\n",
    "                freq[quer[val]] -=1\n",
    "                quer[val] -= 1\n",
    "                freq[quer[val]] +=1\n",
    "                \n",
    "        else:\n",
    "            result.append(1 if freq[val]>0 else 0)\n",
    "                      \n",
    "    return result "
   ]
  },
  {
   "cell_type": "markdown",
   "metadata": {},
   "source": [
    "Sorting: Comparator  -  https://www.hackerrank.com/challenges/ctci-comparator-sorting/problem?h_l=interview&playlist_slugs%5B%5D=interview-preparation-kit&playlist_slugs%5B%5D=sorting"
   ]
  },
  {
   "cell_type": "code",
   "execution_count": 1,
   "metadata": {},
   "outputs": [],
   "source": [
    "class Player:\n",
    "    def __init__(self, name, score):\n",
    "        self.name = name\n",
    "        self.score = score\n",
    "        \n",
    "    # def __repr__(self):\n",
    "        \n",
    "    def comparator(a, b):   #here a and b are objects\n",
    "        if a.score > b.score:\n",
    "            return -1\n",
    "        elif a.score < b.score:\n",
    "            return 1\n",
    "        else:\n",
    "            if a.name > b.name:\n",
    "                return 1\n",
    "            elif a.name < b.name:\n",
    "                return -1\n",
    "            else:\n",
    "                return 0"
   ]
  },
  {
   "cell_type": "code",
   "execution_count": 92,
   "metadata": {},
   "outputs": [],
   "source": [
    "def median(arr):\n",
    "    l = len(arr)\n",
    "    arr = sorted(arr)\n",
    "    if l%2 == 0: #that means even\n",
    "        n1 = arr[(l//2)-1]\n",
    "        n2 = arr[(l//2)]\n",
    "        print(n1,n2)\n",
    "        return (n1+n2)/2\n",
    "    else:\n",
    "        return arr[(l)//2]\n",
    " \n"
   ]
  },
  {
   "cell_type": "code",
   "execution_count": 93,
   "metadata": {},
   "outputs": [
    {
     "name": "stdout",
     "output_type": "stream",
     "text": [
      "2 3\n"
     ]
    },
    {
     "data": {
      "text/plain": [
       "2.5"
      ]
     },
     "execution_count": 93,
     "metadata": {},
     "output_type": "execute_result"
    }
   ],
   "source": [
    "arr = [1,2,3,4]\n",
    "median(arr)"
   ]
  },
  {
   "cell_type": "code",
   "execution_count": 72,
   "metadata": {},
   "outputs": [],
   "source": [
    "def activityNotifications(expenditure, d):\n",
    "    # Write your code here\n",
    "    notices = 0\n",
    "    i = 0\n",
    "    for j in range(d,len(expenditure)):  #not d+1, because if d=5, we have to start from\n",
    "        a = sorted(expenditure[i:j])\n",
    "        m = median(a)\n",
    "        print(a)\n",
    "        print(expenditure[j])\n",
    "        print(2*m)     #6th position.and we also know that array index \n",
    "        i += 1                           #starts from 0. So, If its index 5 means,6th\n",
    "        if expenditure[j] >= 2*m:           #position only.\n",
    "            notices += 1 \n",
    "            \n",
    "    return notices"
   ]
  },
  {
   "cell_type": "code",
   "execution_count": 73,
   "metadata": {},
   "outputs": [
    {
     "name": "stdout",
     "output_type": "stream",
     "text": [
      "[2, 2, 3, 3, 4]\n",
      "6\n",
      "6\n",
      "[2, 3, 3, 4, 6]\n",
      "8\n",
      "6\n",
      "[2, 3, 4, 6, 8]\n",
      "4\n",
      "8\n",
      "[2, 3, 4, 6, 8]\n",
      "5\n",
      "8\n"
     ]
    },
    {
     "data": {
      "text/plain": [
       "2"
      ]
     },
     "execution_count": 73,
     "metadata": {},
     "output_type": "execute_result"
    }
   ],
   "source": [
    "expenditure = [2, 3, 4, 2, 3, 6, 8, 4, 5]\n",
    "d = 5\n",
    "activityNotifications(expenditure, d)"
   ]
  },
  {
   "cell_type": "code",
   "execution_count": 69,
   "metadata": {},
   "outputs": [
    {
     "name": "stdout",
     "output_type": "stream",
     "text": [
      "[10, 20, 30]\n",
      "40\n",
      "40\n",
      "[20, 30, 40]\n",
      "50\n",
      "60\n"
     ]
    },
    {
     "data": {
      "text/plain": [
       "1"
      ]
     },
     "execution_count": 69,
     "metadata": {},
     "output_type": "execute_result"
    }
   ],
   "source": [
    "expenditure = [10,20,30,40,50]\n",
    "d = 3\n",
    "activityNotifications(expenditure, d)"
   ]
  },
  {
   "cell_type": "code",
   "execution_count": 74,
   "metadata": {},
   "outputs": [
    {
     "ename": "TypeError",
     "evalue": "'int' object is not iterable",
     "output_type": "error",
     "traceback": [
      "\u001b[1;31m---------------------------------------------------------------------------\u001b[0m",
      "\u001b[1;31mTypeError\u001b[0m                                 Traceback (most recent call last)",
      "\u001b[1;32m<ipython-input-74-1f054cbfd1cb>\u001b[0m in \u001b[0;36m<module>\u001b[1;34m\u001b[0m\n\u001b[0;32m      1\u001b[0m \u001b[0mexpenditure\u001b[0m \u001b[1;33m=\u001b[0m \u001b[1;33m[\u001b[0m\u001b[1;36m1\u001b[0m\u001b[1;33m,\u001b[0m\u001b[1;36m2\u001b[0m\u001b[1;33m,\u001b[0m\u001b[1;36m3\u001b[0m\u001b[1;33m,\u001b[0m\u001b[1;36m4\u001b[0m\u001b[1;33m,\u001b[0m\u001b[1;36m4\u001b[0m\u001b[1;33m]\u001b[0m\u001b[1;33m\u001b[0m\u001b[1;33m\u001b[0m\u001b[0m\n\u001b[0;32m      2\u001b[0m \u001b[0md\u001b[0m \u001b[1;33m=\u001b[0m \u001b[1;36m4\u001b[0m\u001b[1;33m\u001b[0m\u001b[1;33m\u001b[0m\u001b[0m\n\u001b[1;32m----> 3\u001b[1;33m \u001b[0mactivityNotifications\u001b[0m\u001b[1;33m(\u001b[0m\u001b[0mexpenditure\u001b[0m\u001b[1;33m,\u001b[0m \u001b[0md\u001b[0m\u001b[1;33m)\u001b[0m\u001b[1;33m\u001b[0m\u001b[1;33m\u001b[0m\u001b[0m\n\u001b[0m",
      "\u001b[1;32m<ipython-input-72-1b97b2c9454c>\u001b[0m in \u001b[0;36mactivityNotifications\u001b[1;34m(expenditure, d)\u001b[0m\n\u001b[0;32m      5\u001b[0m     \u001b[1;32mfor\u001b[0m \u001b[0mj\u001b[0m \u001b[1;32min\u001b[0m \u001b[0mrange\u001b[0m\u001b[1;33m(\u001b[0m\u001b[0md\u001b[0m\u001b[1;33m,\u001b[0m\u001b[0mlen\u001b[0m\u001b[1;33m(\u001b[0m\u001b[0mexpenditure\u001b[0m\u001b[1;33m)\u001b[0m\u001b[1;33m)\u001b[0m\u001b[1;33m:\u001b[0m  \u001b[1;31m#not d+1, because if d=5, we have to start from\u001b[0m\u001b[1;33m\u001b[0m\u001b[1;33m\u001b[0m\u001b[0m\n\u001b[0;32m      6\u001b[0m         \u001b[0ma\u001b[0m \u001b[1;33m=\u001b[0m \u001b[0msorted\u001b[0m\u001b[1;33m(\u001b[0m\u001b[0mexpenditure\u001b[0m\u001b[1;33m[\u001b[0m\u001b[0mi\u001b[0m\u001b[1;33m:\u001b[0m\u001b[0mj\u001b[0m\u001b[1;33m]\u001b[0m\u001b[1;33m)\u001b[0m\u001b[1;33m\u001b[0m\u001b[1;33m\u001b[0m\u001b[0m\n\u001b[1;32m----> 7\u001b[1;33m         \u001b[0mm\u001b[0m \u001b[1;33m=\u001b[0m \u001b[0mmedian\u001b[0m\u001b[1;33m(\u001b[0m\u001b[0ma\u001b[0m\u001b[1;33m)\u001b[0m\u001b[1;33m\u001b[0m\u001b[1;33m\u001b[0m\u001b[0m\n\u001b[0m\u001b[0;32m      8\u001b[0m         \u001b[0mprint\u001b[0m\u001b[1;33m(\u001b[0m\u001b[0ma\u001b[0m\u001b[1;33m)\u001b[0m\u001b[1;33m\u001b[0m\u001b[1;33m\u001b[0m\u001b[0m\n\u001b[0;32m      9\u001b[0m         \u001b[0mprint\u001b[0m\u001b[1;33m(\u001b[0m\u001b[0mexpenditure\u001b[0m\u001b[1;33m[\u001b[0m\u001b[0mj\u001b[0m\u001b[1;33m]\u001b[0m\u001b[1;33m)\u001b[0m\u001b[1;33m\u001b[0m\u001b[1;33m\u001b[0m\u001b[0m\n",
      "\u001b[1;32m<ipython-input-71-b3e5502d77af>\u001b[0m in \u001b[0;36mmedian\u001b[1;34m(arr)\u001b[0m\n\u001b[0;32m      5\u001b[0m         \u001b[0mn1\u001b[0m \u001b[1;33m=\u001b[0m \u001b[1;33m(\u001b[0m\u001b[0ml\u001b[0m\u001b[1;33m//\u001b[0m\u001b[1;36m2\u001b[0m\u001b[1;33m)\u001b[0m\u001b[1;33m-\u001b[0m\u001b[1;36m1\u001b[0m\u001b[1;33m\u001b[0m\u001b[1;33m\u001b[0m\u001b[0m\n\u001b[0;32m      6\u001b[0m         \u001b[0mn2\u001b[0m \u001b[1;33m=\u001b[0m \u001b[1;33m(\u001b[0m\u001b[0ml\u001b[0m\u001b[1;33m//\u001b[0m\u001b[1;36m2\u001b[0m\u001b[1;33m)\u001b[0m\u001b[1;33m\u001b[0m\u001b[1;33m\u001b[0m\u001b[0m\n\u001b[1;32m----> 7\u001b[1;33m         \u001b[0ms\u001b[0m \u001b[1;33m=\u001b[0m \u001b[0msum\u001b[0m\u001b[1;33m(\u001b[0m\u001b[0marr\u001b[0m\u001b[1;33m[\u001b[0m\u001b[0mn1\u001b[0m\u001b[1;33m]\u001b[0m\u001b[1;33m,\u001b[0m\u001b[0marr\u001b[0m\u001b[1;33m[\u001b[0m\u001b[0mn2\u001b[0m\u001b[1;33m]\u001b[0m\u001b[1;33m)\u001b[0m\u001b[1;33m\u001b[0m\u001b[1;33m\u001b[0m\u001b[0m\n\u001b[0m\u001b[0;32m      8\u001b[0m         \u001b[1;32mreturn\u001b[0m \u001b[0ms\u001b[0m\u001b[1;33m//\u001b[0m\u001b[1;36m2\u001b[0m\u001b[1;33m\u001b[0m\u001b[1;33m\u001b[0m\u001b[0m\n\u001b[0;32m      9\u001b[0m     \u001b[1;32melse\u001b[0m\u001b[1;33m:\u001b[0m\u001b[1;33m\u001b[0m\u001b[1;33m\u001b[0m\u001b[0m\n",
      "\u001b[1;31mTypeError\u001b[0m: 'int' object is not iterable"
     ]
    }
   ],
   "source": [
    "expenditure = [1,2,3,4,4]\n",
    "d = 4\n",
    "activityNotifications(expenditure, d)"
   ]
  },
  {
   "cell_type": "markdown",
   "metadata": {},
   "source": [
    "Merge Sort: Counting Inversions - https://www.hackerrank.com/challenges/ctci-merge-sort/problem?h_l=interview&playlist_slugs%5B%5D%5B%5D=interview-preparation-kit&playlist_slugs%5B%5D%5B%5D=sorting"
   ]
  },
  {
   "cell_type": "code",
   "execution_count": 1,
   "metadata": {},
   "outputs": [],
   "source": [
    "#m1 brute-force method : O(n^2)\n",
    "def countInversions(arr):\n",
    "    # Write your code here\n",
    "    totalInvers = 0\n",
    "    \n",
    "    for i in range(len(arr)-1):\n",
    "        inversions = 0\n",
    "        for j in range(i+1, len(arr)):\n",
    "            if arr[i] > arr[j]:\n",
    "                # arr[i], arr[j] = arr[j], arr[i]\n",
    "                inversions += 1\n",
    "        if inversions != 0:\n",
    "            totalInvers += inversions\n",
    "        else:\n",
    "            break\n",
    "                \n",
    "    return totalInvers"
   ]
  },
  {
   "cell_type": "code",
   "execution_count": 2,
   "metadata": {},
   "outputs": [],
   "source": [
    "#m2 Merge Sort : O(n logn)\n",
    "#extra notes: Sets donot allow duolicate element. Multisets allow duplicate elements.\n",
    "#m3 AVL: O(n logn) i.e. Red-Black trees. Self-balancig BS trees.\n",
    "#m4 BIT: O(n)  actually the best approach"
   ]
  },
  {
   "cell_type": "code",
   "execution_count": null,
   "metadata": {},
   "outputs": [],
   "source": [
    "#Merge sort is powerful.\n",
    "#It's considered cool when you know merge sort.\n"
   ]
  },
  {
   "cell_type": "markdown",
   "metadata": {},
   "source": [
    "                                                   String Manipulation"
   ]
  },
  {
   "cell_type": "markdown",
   "metadata": {},
   "source": [
    "Strings: Making Anagrams  -  https://www.hackerrank.comchallenges//ctci-making-anagrams/problem?h_l=interview&playlist_slugs%5B%5D=interview-preparation-kit&playlist_slugs%5B%5D=strings"
   ]
  },
  {
   "cell_type": "code",
   "execution_count": null,
   "metadata": {},
   "outputs": [],
   "source": [
    "from collections import Counter\n",
    "def makeAnagram(a, b):\n",
    "    # Write your code here\n",
    "    d1 = Counter(a)\n",
    "    d2 = Counter(b)\n",
    "    # print(d1,d2)\n",
    "    # print(d1 - d2)\n",
    "    # print(d2 - d1)\n",
    "    total = (d1 - d2) + (d2 - d1)\n",
    "    # print(total)\n",
    "    return sum(total.values())"
   ]
  },
  {
   "cell_type": "code",
   "execution_count": null,
   "metadata": {},
   "outputs": [],
   "source": [
    "a = \"cde\"\n",
    "b = \"abc\"\n",
    "makeAnagram(a, b)"
   ]
  },
  {
   "cell_type": "markdown",
   "metadata": {},
   "source": [
    "Alternating Characters - https://www.hackerrank.com/challenges/alternating-characters/problem?h_l=interview&playlist_slugs%5B%5D=interview-preparation-kit&playlist_slugs%5B%5D=strings"
   ]
  },
  {
   "cell_type": "code",
   "execution_count": null,
   "metadata": {},
   "outputs": [],
   "source": [
    "def alternatingCharacters(s):\n",
    "    # Write your code here\n",
    "    deleteCount = 0\n",
    "    for i in range(1,len(s)):\n",
    "        if (s[i] == s[i-1]):\n",
    "            deleteCount += 1\n",
    "            \n",
    "    return deleteCount"
   ]
  },
  {
   "cell_type": "code",
   "execution_count": null,
   "metadata": {},
   "outputs": [],
   "source": [
    "s = \"AABAA\"\n",
    "alternatingCharacters(s)"
   ]
  },
  {
   "cell_type": "markdown",
   "metadata": {},
   "source": [
    "Sherlock and valid string - https://www.hackerrank.com/challenges/sherlock-and-valid-string/problem?h_l=interview&playlist_slugs%5B%5D=interview-preparation-kit&playlist_slugs%5B%5D=strings"
   ]
  },
  {
   "cell_type": "code",
   "execution_count": 1,
   "metadata": {},
   "outputs": [],
   "source": [
    "from collections import Counter\n",
    "def isValid(s):\n",
    "    # Write your code here\n",
    "    sCounter = Counter(s)\n",
    "    \n",
    "    #case1: all have same frequency\n",
    "    if len(set(sCounter.values())) == 1:\n",
    "        return \"YES\"\n",
    "    #case2: has more than 2 unique frequencies\n",
    "    elif len(set(sCounter.values())) > 2:\n",
    "        return \"NO\"\n",
    "    #case3: has exactly 2 unique frequencies\n",
    "    else:\n",
    "        for key in sCounter:\n",
    "            sCounter[key] -= 1\n",
    "            temp = list(sCounter.values())\n",
    "            print(temp)\n",
    "            try:\n",
    "                temp.remove(0)\n",
    "                print(\"temp after removing 0s\",temp)\n",
    "            except:\n",
    "                pass\n",
    "            \n",
    "            if len(set(temp)) == 1:\n",
    "                return \"YES\"\n",
    "            else:\n",
    "                sCounter[key] += 1\n",
    "                \n",
    "        return \"NO\""
   ]
  },
  {
   "cell_type": "code",
   "execution_count": null,
   "metadata": {},
   "outputs": [],
   "source": [
    "s = \"aabbc\"\n",
    "isValid(s)"
   ]
  },
  {
   "cell_type": "markdown",
   "metadata": {},
   "source": [
    "Special String Again - https://www.hackerrank.com/challenges/special-palindrome-again/problem?h_l=interview&playlist_slugs%5B%5D=interview-preparation-kit&playlist_slugs%5B%5D=strings"
   ]
  },
  {
   "cell_type": "code",
   "execution_count": null,
   "metadata": {},
   "outputs": [],
   "source": [
    "#wrong answer\n",
    "from collections import Counter\n",
    "\n",
    "# Complete the substrCount function below.\n",
    "def substrCount(n, s):\n",
    "    result = 0\n",
    "    i = 0\n",
    "    \n",
    "    if len(Counter(s)) == 1:\n",
    "        result = n * (n+1)//2\n",
    "    \n",
    "    else:\n",
    "        for i in range(1, n):\n",
    "            char_count = 1\n",
    "            while (\n",
    "                i + char_count < n and\n",
    "                i - char_count >= 0 and\n",
    "                s[i] != s[i-1] and\n",
    "                s[i-char_count] == s[i+char_count] and\n",
    "                s[i-1] == s[i-char_count]\n",
    "            ):\n",
    "                char_count += 1\n",
    "        \n",
    "            result += char_count - 1\n",
    "    \n",
    "    return result"
   ]
  },
  {
   "cell_type": "markdown",
   "metadata": {},
   "source": [
    "                                                  GREEDY ALGORITHMS"
   ]
  },
  {
   "cell_type": "markdown",
   "metadata": {},
   "source": [
    "Minimum Absolute Difference in an Array - https://www.hackerrank.com/challenges/minimum-absolute-difference-in-an-array/problem?h_l=interview&playlist_slugs%5B%5D=interview-preparation-kit&playlist_slugs%5B%5D=greedy-algorithms\n",
    "\n",
    "#nested loop ----> O(n^2)\n",
    "#sorting     ----> O(nlog(n)).So,now we just have to compare the adjacent elements."
   ]
  },
  {
   "cell_type": "code",
   "execution_count": 1,
   "metadata": {},
   "outputs": [],
   "source": [
    "#nested loop ----> O(n^2)\n",
    "from math import inf\n",
    "def minimumAbsoluteDifference(arr):\n",
    "    # Write your code here\n",
    "    miniAbsDiff = inf #or use miniAbsDiff = 1000000000 i.e., 10^9\n",
    "    for i in range(len(arr)):\n",
    "        for j in range(i+1,len(arr)):\n",
    "            absDiff = abs(arr[i]-arr[j])\n",
    "            miniAbsDiff = min(miniAbsDiff,absDiff)\n",
    "        \n",
    "    return miniAbsDiff"
   ]
  },
  {
   "cell_type": "code",
   "execution_count": 2,
   "metadata": {},
   "outputs": [],
   "source": [
    "#sorting ----> O(nlog(n)).So,now we just have to compare the adjacent elements.\n",
    "from math import inf\n",
    "\n",
    "def minimumAbsoluteDifference(arr):\n",
    "    # Write your code here\n",
    "    miniAbsDiff = inf #or use miniAbsDiff = 1000000000 i.e., 10^9\n",
    "    arr = sorted(arr)\n",
    "    for i in range(1,len(arr)):\n",
    "        absDiff = abs(arr[i]-arr[i-1])\n",
    "        miniAbsDiff = min(miniAbsDiff,absDiff)\n",
    "        \n",
    "    return miniAbsDiff\n"
   ]
  },
  {
   "cell_type": "code",
   "execution_count": 3,
   "metadata": {},
   "outputs": [
    {
     "data": {
      "text/plain": [
       "3"
      ]
     },
     "execution_count": 3,
     "metadata": {},
     "output_type": "execute_result"
    }
   ],
   "source": [
    "arr = [1,-3,71,68,17]\n",
    "minimumAbsoluteDifference(arr)"
   ]
  },
  {
   "cell_type": "markdown",
   "metadata": {},
   "source": [
    "Greedy Florist (M) - https://www.hackerrank.com/challenges/greedy-florist/problem?h_l=interview&playlist_slugs%5B%5D=interview-preparation-kit&playlist_slugs%5B%5D=greedy-algorithms"
   ]
  },
  {
   "cell_type": "code",
   "execution_count": 1,
   "metadata": {},
   "outputs": [],
   "source": [
    "# Complete the getMinimumCost function below.\n",
    "def getMinimumCost(k, c):\n",
    "    c.sort()\n",
    "    # c.reverse()\n",
    "    c = c[::-1]\n",
    "    cost = 0\n",
    "    for i in range(len(c)):\n",
    "        cost += (i//k+1)*c[i]\n",
    "        \n",
    "    return cost"
   ]
  },
  {
   "cell_type": "code",
   "execution_count": 4,
   "metadata": {},
   "outputs": [
    {
     "data": {
      "text/plain": [
       "29"
      ]
     },
     "execution_count": 4,
     "metadata": {},
     "output_type": "execute_result"
    }
   ],
   "source": [
    "k = 3\n",
    "c = [1,3,9,7,5]\n",
    "getMinimumCost(k, c)"
   ]
  },
  {
   "cell_type": "markdown",
   "metadata": {},
   "source": [
    "Max Min - https://www.hackerrank.com/challenges/angry-children/problem?h_l=interview&playlist_slugs%5B%5D=interview-preparation-kit&playlist_slugs%5B%5D=greedy-algorithms"
   ]
  },
  {
   "cell_type": "code",
   "execution_count": 5,
   "metadata": {},
   "outputs": [],
   "source": [
    "def maxMin(k, arr):\n",
    "    # Write your code here\n",
    "    k-=1\n",
    "    arr.sort()\n",
    "    return min(arr[i+k]-arr[i] for i in range(len(arr)-k))\n",
    "    # arr.sort()\n",
    "    # print(arr)\n",
    "    # arr1 = []\n",
    "    # j = 0\n",
    "    # for i in range(len(arr)):\n",
    "    #     if j>=k:\n",
    "    #         break\n",
    "    #     else:\n",
    "    #         if arr[i] not in arr1:\n",
    "    #             arr1[j] = arr[i]\n",
    "    #             j += 1\n",
    "        \n",
    "    # return max(arr1)-min(arr1)"
   ]
  },
  {
   "cell_type": "code",
   "execution_count": 7,
   "metadata": {},
   "outputs": [
    {
     "data": {
      "text/plain": [
       "20"
      ]
     },
     "execution_count": 7,
     "metadata": {},
     "output_type": "execute_result"
    }
   ],
   "source": [
    "k = 3\n",
    "arr = [10,100,300,200,100,20,30]\n",
    "maxMin(k, arr)"
   ]
  },
  {
   "cell_type": "markdown",
   "metadata": {},
   "source": [
    "Reverse Shuffle Merge : https://www.hackerrank.com/challenges/reverse-shuffle-merge/problem?h_l=interview&playlist_slugs%5B%5D=interview-preparation-kit&playlist_slugs%5B%5D=greedy-algorithms"
   ]
  },
  {
   "cell_type": "code",
   "execution_count": 1,
   "metadata": {},
   "outputs": [],
   "source": [
    "from collections import Counter\n",
    "def reverseShuffleMerge(s):\n",
    "    #Write your code here\n",
    "    char_counter = Counter(s)\n",
    "    print(char_counter)\n",
    "    \n",
    "    string_chars = {\n",
    "        char: int(count/2) for char,count in char_counter.items()\n",
    "    }\n",
    "    print(string_chars)\n",
    "    \n",
    "    shuffle_chars = {\n",
    "        char: int(count/2) for char,count in char_counter.items()\n",
    "    }\n",
    "    print(shuffle_chars)\n",
    "    \n",
    "    string = []\n",
    "    \n",
    "    for char in reversed(s):\n",
    "        # print(char)\n",
    "        if string_chars[char] > 0:\n",
    "            while string and string[-1] > char and shuffle_chars[string[-1]] > 0:\n",
    "                removed = string.pop()\n",
    "                string_chars[removed] += 1\n",
    "                shuffle_chars[removed] -= 1\n",
    "                \n",
    "            string.append(char)\n",
    "            string_chars[char] -= 1\n",
    "            \n",
    "        else:\n",
    "            shuffle_chars[char] -= 1\n",
    "            \n",
    "    return ''.join(string)"
   ]
  },
  {
   "cell_type": "code",
   "execution_count": 4,
   "metadata": {},
   "outputs": [
    {
     "name": "stdout",
     "output_type": "stream",
     "text": [
      "Counter({'g': 4, 'e': 2})\n",
      "{'e': 1, 'g': 2}\n",
      "{'e': 1, 'g': 2}\n"
     ]
    },
    {
     "data": {
      "text/plain": [
       "'egg'"
      ]
     },
     "execution_count": 4,
     "metadata": {},
     "output_type": "execute_result"
    }
   ],
   "source": [
    "s = \"eggegg\"\n",
    "reverseShuffleMerge(s)"
   ]
  },
  {
   "cell_type": "markdown",
   "metadata": {},
   "source": [
    "                                                        SEARCH"
   ]
  },
  {
   "cell_type": "markdown",
   "metadata": {},
   "source": [
    "Hash Tables: Ice Cream Parlor :- https://www.hackerrank.com/challenges/ctci-ice-cream-parlor/problem?h_l=interview&playlist_slugs%5B%5D=interview-preparation-kit&playlist_slugs%5B%5D=search"
   ]
  },
  {
   "cell_type": "code",
   "execution_count": 1,
   "metadata": {},
   "outputs": [],
   "source": [
    "def whatFlavors(cost, money):\n",
    "    # Write your code here\n",
    "    saved = {}\n",
    "    for i in range(len(cost)):\n",
    "        if money-cost[i] in saved:\n",
    "            print(saved[money-cost[i]],i+1)\n",
    "            break\n",
    "        saved[cost[i]] = i+1"
   ]
  },
  {
   "cell_type": "markdown",
   "metadata": {},
   "source": [
    "Swap Nodes [Algo] :- https://www.hackerrank.com/challenges/swap-nodes-algo/problem?h_l=interview&playlist_slugs%5B%5D=interview-preparation-kit&playlist_slugs%5B%5D=search"
   ]
  },
  {
   "cell_type": "code",
   "execution_count": null,
   "metadata": {},
   "outputs": [],
   "source": [
    "from collections import deque\n",
    "sys.setrecursionlimit(1000000)\n",
    "\n",
    "class Node:\n",
    "    def __init__(self,data):\n",
    "        self.info = data\n",
    "        self.left = None\n",
    "        self.right = None\n",
    "        \n",
    "def swapNodes(indexes, queries):\n",
    "    #\n",
    "    # Write your code here.\n",
    "    #\n",
    "    \n",
    "    def createTree(root,indexes):\n",
    "        q = deque([root])\n",
    "        for a,b in indexes:\n",
    "            temp = q.popleft()\n",
    "            if a!=-1:\n",
    "                temp.left = Node(a)\n",
    "                q.append(temp.left)\n",
    "            if b!=-1:\n",
    "                temp.right = Node(b)\n",
    "                q.append(temp.right)\n",
    "                \n",
    "        return root\n",
    "            \n",
    "    def swapTrees(root, k, level, l):\n",
    "        if root:\n",
    "            if level%k == 0:\n",
    "                root.left, root.right = root.right, root.left      \n",
    "            #in-order traversal\n",
    "            swapTrees(root.left, k, level+1, l)\n",
    "            l.append(root.info)\n",
    "            swapTrees(root.right, k, level+1, l)\n",
    "            \n",
    "        return root\n",
    "            \n",
    "    \n",
    "    #1: creat root node\n",
    "    root = Node(1)\n",
    "    #2: create the tree\n",
    "    root = createTree(root,indexes)\n",
    "    #3: swap at multiples of k level\n",
    "    result = []\n",
    "    for k in queries:\n",
    "        l = []\n",
    "        swapTrees(root,k,1,l)\n",
    "        result.append(l)\n",
    "        \n",
    "    return result"
   ]
  },
  {
   "cell_type": "markdown",
   "metadata": {},
   "source": [
    "Pairs :- https://www.hackerrank.com/challenges/pairs/problem?h_l=interview&playlist_slugs%5B%5D=interview-preparation-kit&playlist_slugs%5B%5D=search"
   ]
  },
  {
   "cell_type": "code",
   "execution_count": 3,
   "metadata": {},
   "outputs": [],
   "source": [
    "def pairs(k, arr):\n",
    "    # Write your code here\n",
    "    saved = {}\n",
    "    count = 0\n",
    "    arr.sort()\n",
    "    for i in range(len(arr)):\n",
    "        saved[arr[i]] = i    \n",
    "        print(arr[i])\n",
    "        if arr[i]+k in saved or arr[i]-k in saved:\n",
    "            count += 1\n",
    "            \n",
    "    return count"
   ]
  },
  {
   "cell_type": "markdown",
   "metadata": {},
   "source": [
    "Triple Sum :- https://www.hackerrank.com/challenges/triple-sum/problem?h_l=interview&playlist_slugs%5B%5D=interview-preparation-kit&playlist_slugs%5B%5D=search"
   ]
  },
  {
   "cell_type": "code",
   "execution_count": null,
   "metadata": {},
   "outputs": [],
   "source": [
    "def triplets(a, b, c):\n",
    "    print(a)\n",
    "    a = sorted(set(a))\n",
    "    b = sorted(set(b))\n",
    "    c = sorted(set(c))\n",
    "    \n",
    "    count = m = n =0\n",
    "    \n",
    "    for i in b:\n",
    "        while m<len(a) and a[m]<=i:\n",
    "            m+=1\n",
    "        while n<len(c) and c[n]<=i:\n",
    "            n+=1\n",
    "        count += m*n\n",
    "        \n",
    "    return count"
   ]
  },
  {
   "cell_type": "markdown",
   "metadata": {},
   "source": [
    "Minimum Time Requried :- https://www.hackerrank.com/challenges/minimum-time-required/problem?h_l=interview&playlist_slugs%5B%5D=interview-preparation-kit&playlist_slugs%5B%5D=search"
   ]
  },
  {
   "cell_type": "code",
   "execution_count": 2,
   "metadata": {},
   "outputs": [],
   "source": [
    "def minTime(machines, goal):\n",
    "    # count = 0\n",
    "    # day = 0\n",
    "    # machinesDict = {}\n",
    "    # for i in machines:\n",
    "    #     while count<goal:\n",
    "    #         day += 1\n",
    "    #         for m in machines:\n",
    "    #             if day%m == 0:\n",
    "    #                 count += 1\n",
    "    # return day\n",
    "\n",
    "    machines, count = sorted(machines), len(machines)\n",
    "    #math.ceil() is to round a number upto it's nearest integer\n",
    "    min_day = math.ceil(goal / count) * machines[0]\n",
    "    max_day = math.ceil(goal / count) * machines[-1]\n",
    "\n",
    "    while min_day < max_day:\n",
    "        day = (max_day + min_day) // 2\n",
    "        day_sum = sum(day // m for m in machines)\n",
    "\n",
    "        if day_sum >= goal:\n",
    "            max_day = day\n",
    "        else:\n",
    "            min_day = day + 1\n",
    "\n",
    "    return min_day"
   ]
  },
  {
   "cell_type": "markdown",
   "metadata": {},
   "source": [
    "                                                 STACKS AND QUEUES"
   ]
  },
  {
   "cell_type": "markdown",
   "metadata": {},
   "source": [
    "1) Balanced Brackets :- https://www.hackerrank.com/challenges/balanced-brackets/problem?h_l=interview&playlist_slugs%5B%5D=interview-preparation-kit&playlist_slugs%5B%5D=stacks-queues"
   ]
  },
  {
   "cell_type": "code",
   "execution_count": 4,
   "metadata": {},
   "outputs": [],
   "source": [
    "def isBalanced(s):\n",
    "    # Write your code here\n",
    "    stack = []\n",
    "    backet = {'(':')','[':']','{':'}'}\n",
    "    \n",
    "    for char in s:\n",
    "        if char in ['(','[','{']:#getting open backets alone in stack\n",
    "            stack.append(char)\n",
    "        else:#when closed backets appear we check if their corresponding open backet is alrady in stack or not\n",
    "            if stack:#we can check that only when there is something is stack\n",
    "                top = stack.pop()\n",
    "                if char != backet[top]:\n",
    "                    return \"NO\"\n",
    "            else:#stack if empty\n",
    "                return \"NO\"\n",
    "    return \"NO\" if stack else \"YES\""
   ]
  },
  {
   "cell_type": "code",
   "execution_count": 5,
   "metadata": {},
   "outputs": [
    {
     "name": "stdout",
     "output_type": "stream",
     "text": [
      "NO\n",
      "YES\n"
     ]
    }
   ],
   "source": [
    "s = \"{[{[(])}]}\"\n",
    "print(isBalanced(s))\n",
    "s = \"{[{[()]}]}\"\n",
    "print(isBalanced(s))"
   ]
  },
  {
   "cell_type": "markdown",
   "metadata": {},
   "source": [
    "2) Queues: A Tale of Two Stacks :- https://www.hackerrank.com/challenges/ctci-queue-using-two-stacks/problem?h_l=interview&playlist_slugs%5B%5D=interview-preparation-kit&playlist_slugs%5B%5D=stacks-queues"
   ]
  },
  {
   "cell_type": "code",
   "execution_count": 6,
   "metadata": {},
   "outputs": [],
   "source": [
    "#but have used only one stack\n",
    "class MyQueue(object):\n",
    "    def __init__(self):\n",
    "        self.queue = []\n",
    "    \n",
    "    def peek(self):\n",
    "        i = self.queue.pop()\n",
    "        self.queue.append(i)\n",
    "        return i\n",
    "        \n",
    "    def pop(self):\n",
    "        self.queue.pop()\n",
    "        \n",
    "    def put(self, value):\n",
    "        self.queue.insert(0,value)"
   ]
  },
  {
   "cell_type": "markdown",
   "metadata": {},
   "source": [
    "3) Largest Rectangle :- https://www.hackerrank.com/challenges/largest-rectangle/problem?h_l=interview&playlist_slugs%5B%5D=interview-preparation-kit&playlist_slugs%5B%5D=stacks-queues"
   ]
  },
  {
   "cell_type": "code",
   "execution_count": 2,
   "metadata": {},
   "outputs": [],
   "source": [
    "def largestRectangle(h):\n",
    "    # Write your code here\n",
    "    maxArea = 0\n",
    "    stack = [] #pair: (index,height)\n",
    "    \n",
    "    for i,x in enumerate(h):\n",
    "        start = i\n",
    "        while stack and stack[-1][1] > x:\n",
    "            index,height = stack.pop()\n",
    "            maxArea = max(height*(i-index),maxArea)\n",
    "            start = index\n",
    "        stack.append((start,x))\n",
    "        \n",
    "    for i,x in stack:\n",
    "        maxArea = max(x*(len(h)-i),maxArea)\n",
    "        \n",
    "    return maxArea\n"
   ]
  },
  {
   "cell_type": "code",
   "execution_count": 3,
   "metadata": {},
   "outputs": [
    {
     "data": {
      "text/plain": [
       "9"
      ]
     },
     "execution_count": 3,
     "metadata": {},
     "output_type": "execute_result"
    }
   ],
   "source": [
    "h = [1,2,3,4,5]\n",
    "largestRectangle(h)"
   ]
  },
  {
   "cell_type": "code",
   "execution_count": null,
   "metadata": {},
   "outputs": [],
   "source": []
  },
  {
   "cell_type": "code",
   "execution_count": null,
   "metadata": {},
   "outputs": [],
   "source": []
  }
 ],
 "metadata": {
  "kernelspec": {
   "display_name": "Python 3",
   "language": "python",
   "name": "python3"
  },
  "language_info": {
   "codemirror_mode": {
    "name": "ipython",
    "version": 3
   },
   "file_extension": ".py",
   "mimetype": "text/x-python",
   "name": "python",
   "nbconvert_exporter": "python",
   "pygments_lexer": "ipython3",
   "version": "3.8.5"
  }
 },
 "nbformat": 4,
 "nbformat_minor": 4
}
